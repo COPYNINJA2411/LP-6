{
  "nbformat": 4,
  "nbformat_minor": 0,
  "metadata": {
    "colab": {
      "provenance": []
    },
    "kernelspec": {
      "name": "python3",
      "display_name": "Python 3"
    },
    "language_info": {
      "name": "python"
    }
  },
  "cells": [
    {
      "cell_type": "code",
      "execution_count": null,
      "metadata": {
        "id": "rFPFbI-nhni_"
      },
      "outputs": [],
      "source": [
        "\n",
        "\n",
        "import numpy as np\n",
        "from tensorflow.keras.models import Sequential\n",
        "from tensorflow.keras.layers import Dense, Dropout\n",
        "from tensorflow.keras.optimizers import RMSprop\n",
        "from tensorflow.keras.datasets import mnist\n",
        "import matplotlib.pyplot as plt\n",
        "from sklearn import metrics\n",
        "\n",
        "\n",
        "(x_train, y_train), (x_test, y_test) = mnist.load_data()\n",
        "\n",
        "\n",
        "plt.imshow(x_train[0], cmap='gray')\n",
        "\n",
        "plt.show()\n",
        "\n",
        "print(x_train[0])\n",
        "\n",
        "# Reshape the data to fit the model\n",
        "print(\"X_train shape\", x_train.shape)\n",
        "print(\"y_train shape\", y_train.shape)\n",
        "print(\"X_test shape\", x_test.shape)\n",
        "print(\"y_test shape\", y_test.shape)\n",
        "\n",
        "x_train = x_train.reshape(60000, 784)\n",
        "x_test = x_test.reshape(10000, 784)\n",
        "x_train = x_train.astype('float32')\n",
        "\n",
        "x_test = x_test.astype('float32')\n",
        "x_train /= 255 # Each image has Intensity from 0 to 255\n",
        "x_test /= 255\n",
        "\n",
        "x_train[0]\n",
        "\n",
        "# Convert class vectors to binary class matrices\n",
        "num_classes = 10\n",
        "y_train = np.eye(num_classes)[y_train] # Return a 2-D array with ones on the diagonal and zeros elsewhere\n",
        "y_test = np.eye(num_classes)[y_test] # f your particular categories is present then it mark as 1 else 0 in remain row\n",
        "\n",
        "# Define the model architecture\n",
        "model = Sequential()\n",
        "model.add(Dense(512, activation='relu', input_shape=(784,))) # Input cosist of 784 Neuron ie 784 input,512 in the hidden layer\n",
        "model.add(Dropout(0.2)) # DROP OUT RATIO 20%\n",
        "\n",
        "model.add(Dense(512, activation='relu')) #returns a sequence of another vectors of dimension 512\n",
        "model.add(Dropout(0.2))\n",
        "model.add(Dense(num_classes, activation='softmax')) # 10 neurons ie output node in the output layer.\n",
        "# Compile the model\n",
        "model.compile(loss='categorical_crossentropy', # for a multi-class classification problem\n",
        "optimizer=RMSprop(),\n",
        "metrics=['accuracy'])\n",
        "\n",
        "# Train the model\n",
        "batch_size = 128 # batch_size argument is passed to the layer to define a batch size for the inputs.\n",
        "epochs = 20\n",
        "history = model.fit(x_train, y_train,\n",
        "batch_size=batch_size,\n",
        "epochs=epochs,\n",
        "verbose=1, # verbose=1 will show you an animated progress bar eg. [==========]\n",
        "validation_data=(x_test, y_test)) # Using validation_data means you are providing the training set and validation set yourself,\n",
        "# 60000image/128=469 batch each\n",
        "\n",
        "# Evaluate the model\n",
        "score = model.evaluate(x_test, y_test, verbose=0)\n",
        "print('Test loss:', score[0])\n",
        "print('Test accuracy:', score[1])"
      ]
    }
  ]
}